{
 "cells": [
  {
   "cell_type": "code",
   "execution_count": 9,
   "metadata": {},
   "outputs": [
    {
     "name": "stdout",
     "output_type": "stream",
     "text": [
      "Enter you first num 4\n",
      "Enter you second num 5\n",
      "Enter your operationh\n",
      "Enter appropriate function\n"
     ]
    }
   ],
   "source": [
    "First_value = int(input('Enter you first num '));\n",
    "Second_value = int(input('Enter you second num '));\n",
    "operation = input('Enter your operation');\n",
    "\n",
    "if operation == 'sum':\n",
    "    value = First_value + Second_value \n",
    "    print(value,'answer')\n",
    "elif operation == 'sub':\n",
    "    value = First_value - Second_value \n",
    "    print(value,'answer')\n",
    "elif operation == 'multiply':\n",
    "    value = First_value * Second_value \n",
    "    print(value,'answer')\n",
    "elif operation == 'divide':\n",
    "    value = First_value / Second_value \n",
    "    print(value,'answer')\n",
    "elif operation == 'power':\n",
    "    value = First_value ** Second_value \n",
    "    print(value,'answer')\n",
    "else:\n",
    "    print('Enter wrong function')"
   ]
  },
  {
   "cell_type": "code",
   "execution_count": 23,
   "metadata": {},
   "outputs": [
    {
     "name": "stdout",
     "output_type": "stream",
     "text": [
      "Element exits\n",
      "Element exits\n",
      "Element exits\n",
      "Element exits\n",
      "Element exits\n",
      "Element exits\n"
     ]
    }
   ],
   "source": []
  },
  {
   "cell_type": "code",
   "execution_count": 32,
   "metadata": {},
   "outputs": [
    {
     "name": "stdout",
     "output_type": "stream",
     "text": [
      "{'first name ': 'Muhammad', 'last name': 'Umer', 'class': 'bachelors'}\n",
      "{'first name ': 'Muhammad', 'last name': 'Umer', 'class': 'bachelors', 'section': 'A'}\n"
     ]
    }
   ],
   "source": [
    "student = {\n",
    "    \"first name \" : \"Muhammad\",\n",
    "    \"last name\" : \"Umer\",\n",
    "    \"class\" : \"bachelors\"\n",
    "}\n",
    "print(student)\n",
    "student[\"section\"] = \"A\"\n",
    "print(student)"
   ]
  },
  {
   "cell_type": "code",
   "execution_count": 91,
   "metadata": {},
   "outputs": [
    {
     "name": "stdout",
     "output_type": "stream",
     "text": [
      "Sum : 280\n"
     ]
    }
   ],
   "source": [
    "lunch = {\n",
    "    'sandwich': 200,\n",
    "    'cold drink':50, \n",
    "    'salad':30\n",
    "} \n",
    "def returnSum(dict): \n",
    "      \n",
    "    sum = 0\n",
    "    for i in dict: \n",
    "        sum = sum + dict[i] \n",
    "      \n",
    "    return sum\n",
    "print(\"Sum :\", returnSum(lunch))"
   ]
  },
  {
   "cell_type": "code",
   "execution_count": 75,
   "metadata": {},
   "outputs": [
    {
     "name": "stdout",
     "output_type": "stream",
     "text": [
      "[83, 78, 45]\n"
     ]
    }
   ],
   "source": [
    "list1 = [ 83 , 78 , 45 , 78 , 45 , 56 , 83 ]\n",
    "\n",
    "def Repeat(x): \n",
    "    size = len(x) \n",
    "    repeated = [] \n",
    "    for i in range(size): \n",
    "        k = i + 1\n",
    "        for j in range(k, size): \n",
    "            if x[i] == x[j] and x[i] not in repeated: \n",
    "                repeated.append(x[i]) \n",
    "    return repeated \n",
    "print (Repeat(list1)) \n",
    "      "
   ]
  },
  {
   "cell_type": "code",
   "execution_count": 90,
   "metadata": {},
   "outputs": [
    {
     "name": "stdout",
     "output_type": "stream",
     "text": [
      "Enter your keylahore_qalander\n",
      "Key is not present in the dictionary\n",
      "Key is not present in the dictionary\n",
      "Key is present in the dictionary\n"
     ]
    }
   ],
   "source": [
    "psl_ranking = {\n",
    "    \"karachi_kings\" : 10,\n",
    "    \"islamabad_united\": 20,\n",
    "    \"lahore_qalander\": 30\n",
    "}\n",
    "key = input('Enter your key')\n",
    "for x in psl_ranking:\n",
    "    if x in key:\n",
    "        print('Key is present in the dictionary')\n",
    "    else:\n",
    "        print('Key is not present in the dictionary')"
   ]
  },
  {
   "cell_type": "code",
   "execution_count": null,
   "metadata": {},
   "outputs": [],
   "source": []
  },
  {
   "cell_type": "code",
   "execution_count": null,
   "metadata": {},
   "outputs": [],
   "source": []
  },
  {
   "cell_type": "code",
   "execution_count": null,
   "metadata": {},
   "outputs": [],
   "source": []
  }
 ],
 "metadata": {
  "kernelspec": {
   "display_name": "Python 3",
   "language": "python",
   "name": "python3"
  },
  "language_info": {
   "codemirror_mode": {
    "name": "ipython",
    "version": 3
   },
   "file_extension": ".py",
   "mimetype": "text/x-python",
   "name": "python",
   "nbconvert_exporter": "python",
   "pygments_lexer": "ipython3",
   "version": "3.7.4"
  }
 },
 "nbformat": 4,
 "nbformat_minor": 2
}
