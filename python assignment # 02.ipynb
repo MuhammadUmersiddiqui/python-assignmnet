{
 "cells": [
  {
   "cell_type": "code",
   "execution_count": 2,
   "metadata": {},
   "outputs": [
    {
     "name": "stdout",
     "output_type": "stream",
     "text": [
      "enter your physics marks: 55\n",
      "enter your computer marks: 67\n",
      "enter your maths marks: 46\n",
      "enter your english marks: 55\n",
      "enter your urdu marks: 65\n",
      "C\n"
     ]
    }
   ],
   "source": [
    "Physics = int(input(\"enter your physics marks: \"));\n",
    "Computer =int(input(\"enter your computer marks: \"));\n",
    "Maths = int(input(\"enter your maths marks: \"));\n",
    "English = int(input(\"enter your english marks: \"));\n",
    "Urdu = int(input(\"enter your urdu marks: \"));\n",
    "Total_marks = Physics+Computer+Maths+English+Urdu;\n",
    "percentage = (Total_marks/500)*100;\n",
    "if percentage >=80 and percentage <=100 :\n",
    "    print (\"A+\")\n",
    "elif percentage >=70 and percentage <80 :\n",
    "    print (\"A\")\n",
    "elif percentage >=60 and percentage <70 :\n",
    "    print (\"B\")\n",
    "elif percentage >=50 and percentage <60 :\n",
    "    print (\"C\")\n",
    "elif percentage >=40 and percentage <50 :\n",
    "    print (\"D\")\n",
    "elif percentage <40 :\n",
    "    print (\"Fail\")\n",
    "else :\n",
    "    print (\"you provide wrong information\")"
   ]
  },
  {
   "cell_type": "code",
   "execution_count": 9,
   "metadata": {},
   "outputs": [
    {
     "name": "stdout",
     "output_type": "stream",
     "text": [
      "enter number: 2\n",
      "The given number is even\n"
     ]
    }
   ],
   "source": [
    "Number = int(input(\"enter number: \"));\n",
    "if Number%2 == 0 :\n",
    "    print (\"The given number is even\")\n",
    "else :\n",
    "    print (\"The given number is odd\")"
   ]
  },
  {
   "cell_type": "code",
   "execution_count": 11,
   "metadata": {},
   "outputs": [
    {
     "name": "stdout",
     "output_type": "stream",
     "text": [
      "6\n"
     ]
    }
   ],
   "source": [
    "Fruits = len([\"Apple\",\"Mangoes\",\"Banana\",\"Oranges\",\"papaya\",\"watermelon\"]);\n",
    "print(Fruits)"
   ]
  },
  {
   "cell_type": "code",
   "execution_count": 14,
   "metadata": {},
   "outputs": [
    {
     "name": "stdout",
     "output_type": "stream",
     "text": [
      "170\n"
     ]
    }
   ],
   "source": [
    "list_of_numbers = sum([1,44,35,90]);\n",
    "print(list_of_numbers)"
   ]
  },
  {
   "cell_type": "code",
   "execution_count": 15,
   "metadata": {},
   "outputs": [
    {
     "name": "stdout",
     "output_type": "stream",
     "text": [
      "234456\n"
     ]
    }
   ],
   "source": [
    "x = max([23,67,434,234456,789,89,6,66555,789,4]);\n",
    "print(x)"
   ]
  },
  {
   "cell_type": "code",
   "execution_count": 21,
   "metadata": {},
   "outputs": [
    {
     "name": "stdout",
     "output_type": "stream",
     "text": [
      "[2]\n",
      "[2, 3]\n",
      "[2, 3, 3]\n",
      "[2, 3, 3, 2]\n",
      "[2, 3, 3, 2, 3]\n"
     ]
    }
   ],
   "source": [
    "Numbers = [2,5,3,5,67,8,9,3,2,3,5];\n",
    "y = [];\n",
    "for i in Numbers:\n",
    "    if i < 5:\n",
    "        y.append(i)\n",
    "        print(y)\n",
    "    "
   ]
  },
  {
   "cell_type": "code",
   "execution_count": null,
   "metadata": {},
   "outputs": [],
   "source": []
  }
 ],
 "metadata": {
  "kernelspec": {
   "display_name": "Python 3",
   "language": "python",
   "name": "python3"
  },
  "language_info": {
   "codemirror_mode": {
    "name": "ipython",
    "version": 3
   },
   "file_extension": ".py",
   "mimetype": "text/x-python",
   "name": "python",
   "nbconvert_exporter": "python",
   "pygments_lexer": "ipython3",
   "version": "3.7.4"
  }
 },
 "nbformat": 4,
 "nbformat_minor": 2
}
