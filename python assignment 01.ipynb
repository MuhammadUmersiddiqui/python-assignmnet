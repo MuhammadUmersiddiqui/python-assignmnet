{
 "cells": [
  {
   "cell_type": "code",
   "execution_count": 10,
   "metadata": {},
   "outputs": [
    {
     "name": "stdout",
     "output_type": "stream",
     "text": [
      "Twinkle,  twinkle, little star,\n",
      "      How are wonder what you are!\n",
      "              Up above the world so high,\n",
      "              Like a diamond in the sky.\n",
      "Twinkle,  twinkle, little star,\n",
      "      How I wonder what you are\n"
     ]
    }
   ],
   "source": [
    "a = \"Twinkle,  twinkle, little star,\"                                                                                                                                                                                \n",
    "b = \"      How are wonder what you are!\"\n",
    "c = \"              Up above the world so high,\"\n",
    "d = \"              Like a diamond in the sky.\"\n",
    "e = \"Twinkle,  twinkle, little star,\"\n",
    "f = \"      How I wonder what you are\"\n",
    "print (a)\n",
    "print (b)\n",
    "print (c)\n",
    "print (d)\n",
    "print (e)\n",
    "print (f)"
   ]
  },
  {
   "cell_type": "code",
   "execution_count": 13,
   "metadata": {},
   "outputs": [
    {
     "name": "stdout",
     "output_type": "stream",
     "text": [
      "3.7.4\n"
     ]
    }
   ],
   "source": [
    "import platform\n",
    "print(platform.python_version())"
   ]
  },
  {
   "cell_type": "code",
   "execution_count": null,
   "metadata": {},
   "outputs": [],
   "source": [
    "from datetime import datetime\n",
    "now = datetime. now()\n",
    "print(\"now =\", now)\n",
    "date_and_time_string = now. strftime(\"%d/%m/%Y %H:%M:%S\")\n",
    "print(\"date and time =\", date_and_time_string)"
   ]
  },
  {
   "cell_type": "code",
   "execution_count": null,
   "metadata": {},
   "outputs": [],
   "source": [
    "radius = int(input(\"Enter your radius \"))\n",
    "r = radius**2\n",
    "a = 3.142\n",
    "area = a*r\n",
    "print(area)"
   ]
  },
  {
   "cell_type": "code",
   "execution_count": null,
   "metadata": {},
   "outputs": [],
   "source": [
    "first_name = input(\"Enter your first name \")\n",
    "last_name = input(\"Enter your last name \")\n",
    "full_name = last_name + \"  \" + first_name\n",
    "print (\"full_name\")"
   ]
  },
  {
   "cell_type": "code",
   "execution_count": null,
   "metadata": {},
   "outputs": [],
   "source": [
    "x = int(input(\"Enter first num \"))\n",
    "y = int(input(\"Enter second num \"))\n",
    "z = x + y\n",
    "print (z)"
   ]
  },
  {
   "cell_type": "code",
   "execution_count": null,
   "metadata": {},
   "outputs": [],
   "source": []
  }
 ],
 "metadata": {
  "kernelspec": {
   "display_name": "Python 3",
   "language": "python",
   "name": "python3"
  },
  "language_info": {
   "codemirror_mode": {
    "name": "ipython",
    "version": 3
   },
   "file_extension": ".py",
   "mimetype": "text/x-python",
   "name": "python",
   "nbconvert_exporter": "python",
   "pygments_lexer": "ipython3",
   "version": "3.7.4"
  }
 },
 "nbformat": 4,
 "nbformat_minor": 2
}
